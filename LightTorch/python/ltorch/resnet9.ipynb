{
 "cells": [
  {
   "cell_type": "code",
   "execution_count": 2,
   "metadata": {},
   "outputs": [],
   "source": [
    "import sys\n",
    "sys.path.append('../')"
   ]
  },
  {
   "cell_type": "code",
   "execution_count": 3,
   "metadata": {},
   "outputs": [
    {
     "name": "stdout",
     "output_type": "stream",
     "text": [
      "env: PYTHONPATH=../\n"
     ]
    }
   ],
   "source": [
    "%set_env PYTHONPATH ../"
   ]
  },
  {
   "cell_type": "code",
   "execution_count": 4,
   "metadata": {},
   "outputs": [
    {
     "name": "stdout",
     "output_type": "stream",
     "text": [
      "Using ltorch backend\n",
      "Epoch: 0, Acc: 0.36726, Loss: [1.7714074]\n",
      "Epoch: 1, Acc: 0.48036, Loss: [1.4415689]\n",
      "Epoch: 2, Acc: 0.53112, Loss: [1.306985]\n",
      "Epoch: 3, Acc: 0.56662, Loss: [1.210435]\n",
      "Epoch: 4, Acc: 0.59556, Loss: [1.1329341]\n",
      "Epoch: 5, Acc: 0.6214, Loss: [1.0678687]\n",
      "Epoch: 6, Acc: 0.63986, Loss: [1.0122881]\n",
      "Epoch: 7, Acc: 0.65664, Loss: [0.9635188]\n",
      "Epoch: 8, Acc: 0.67346, Loss: [0.92027736]\n",
      "Epoch: 9, Acc: 0.68754, Loss: [0.8802379]\n",
      "Epoch: 10, Acc: 0.69898, Loss: [0.8460201]\n",
      "Epoch: 11, Acc: 0.71186, Loss: [0.81394273]\n",
      "Epoch: 12, Acc: 0.72282, Loss: [0.7862841]\n",
      "Epoch: 13, Acc: 0.7297, Loss: [0.7619647]\n",
      "Epoch: 14, Acc: 0.7421, Loss: [0.7294138]\n",
      "Epoch: 15, Acc: 0.75248, Loss: [0.69765556]\n",
      "Epoch: 16, Acc: 0.76062, Loss: [0.6710274]\n",
      "Epoch: 17, Acc: 0.77274, Loss: [0.63977194]\n",
      "Epoch: 18, Acc: 0.78094, Loss: [0.6143147]\n",
      "Epoch: 19, Acc: 0.78432, Loss: [0.6029386]\n",
      "Epoch: 20, Acc: 0.79042, Loss: [0.5869239]\n",
      "Epoch: 21, Acc: 0.7967, Loss: [0.57009876]\n",
      "Epoch: 22, Acc: 0.80462, Loss: [0.5503188]\n",
      "Epoch: 23, Acc: 0.81204, Loss: [0.5267947]\n",
      "Epoch: 24, Acc: 0.81464, Loss: [0.519781]\n",
      "Epoch: 25, Acc: 0.82012, Loss: [0.503782]\n",
      "Epoch: 26, Acc: 0.82548, Loss: [0.48810962]\n",
      "Epoch: 27, Acc: 0.83034, Loss: [0.4722675]\n",
      "Epoch: 28, Acc: 0.8343, Loss: [0.46091527]\n",
      "Epoch: 29, Acc: 0.84012, Loss: [0.44684243]\n",
      "Epoch: 30, Acc: 0.8455, Loss: [0.42522523]\n",
      "Epoch: 31, Acc: 0.85406, Loss: [0.40307343]\n",
      "Epoch: 32, Acc: 0.85862, Loss: [0.39392227]\n",
      "Epoch: 33, Acc: 0.86294, Loss: [0.37935403]\n",
      "Epoch: 34, Acc: 0.86776, Loss: [0.36560786]\n",
      "Epoch: 35, Acc: 0.8681, Loss: [0.36224607]\n",
      "Epoch: 36, Acc: 0.87754, Loss: [0.34016657]\n",
      "Epoch: 37, Acc: 0.87762, Loss: [0.33778417]\n",
      "Epoch: 38, Acc: 0.87728, Loss: [0.33707023]\n",
      "Epoch: 39, Acc: 0.88456, Loss: [0.32007238]\n",
      "Epoch: 40, Acc: 0.88892, Loss: [0.30796036]\n",
      "Epoch: 41, Acc: 0.89048, Loss: [0.30432734]\n",
      "Epoch: 42, Acc: 0.88912, Loss: [0.30103976]\n",
      "Epoch: 43, Acc: 0.8929, Loss: [0.29545784]\n",
      "Epoch: 44, Acc: 0.89456, Loss: [0.28495437]\n",
      "Epoch: 45, Acc: 0.89742, Loss: [0.28142837]\n",
      "Epoch: 46, Acc: 0.90198, Loss: [0.27502236]\n",
      "Epoch: 47, Acc: 0.90706, Loss: [0.26020673]\n",
      "Epoch: 48, Acc: 0.90368, Loss: [0.26436543]\n",
      "Epoch: 49, Acc: 0.90438, Loss: [0.2632727]\n",
      "Evaluation Acc: 0.79048, Evaluation Loss: [0.6548089]\n"
     ]
    }
   ],
   "source": [
    "import ltorch\n",
    "from ltorch.apps.models import ResNet9\n",
    "from ltorch.apps.simple_ml import train_cifar10, evaluate_cifar10\n",
    "\n",
    "device = ltorch.cuda()\n",
    "dataset = ltorch.data.CIFAR10Dataset(\"ltorch_data/cifar-10-batches-py\", train=True)\n",
    "dataloader = ltorch.data.DataLoader(\n",
    "         dataset=dataset,\n",
    "         batch_size=256,\n",
    "         shuffle=True, device=device)\n",
    "model = ResNet9(device=device, dtype=\"float32\")\n",
    "train_cifar10(model, dataloader, n_epochs=50, optimizer=ltorch.optim.Adam,\n",
    "      lr=0.001, weight_decay=0.001)\n",
    "evaluate_cifar10(model, dataloader)\n"
   ]
  },
  {
   "cell_type": "code",
   "execution_count": 6,
   "metadata": {},
   "outputs": [
    {
     "name": "stdout",
     "output_type": "stream",
     "text": [
      "label:  [3.] pred:  [3]\n",
      "label:  [8.] pred:  [8]\n",
      "label:  [8.] pred:  [1]\n",
      "label:  [0.] pred:  [0]\n",
      "label:  [6.] pred:  [6]\n",
      "label:  [6.] pred:  [6]\n",
      "label:  [1.] pred:  [0]\n",
      "label:  [6.] pred:  [6]\n",
      "label:  [3.] pred:  [3]\n",
      "label:  [1.] pred:  [1]\n"
     ]
    }
   ],
   "source": [
    "import numpy as np\n",
    "test_dataset = ltorch.data.CIFAR10Dataset(\"ltorch_data/cifar-10-batches-py\", train=False)\n",
    "test_dataloader = ltorch.data.DataLoader(\\\n",
    "         dataset=test_dataset,\n",
    "         batch_size=1,\n",
    "         shuffle=False,)\n",
    "\n",
    "\n",
    "model.eval()\n",
    "\n",
    "step = 0\n",
    "for batch in test_dataloader:\n",
    "    step += 1\n",
    "    if step > 10:\n",
    "        break\n",
    "    image = batch[0]\n",
    "    label = batch[1]\n",
    "    x, y = ltorch.Tensor(image, device=device), ltorch.Tensor(label, device=device)\n",
    "    pred = model(x)\n",
    "    print(\"label: \", y, \"pred: \", np.argmax(pred.numpy(), axis=1))"
   ]
  }
 ],
 "metadata": {
  "kernelspec": {
   "display_name": "LightTorch",
   "language": "python",
   "name": "python3"
  },
  "language_info": {
   "codemirror_mode": {
    "name": "ipython",
    "version": 3
   },
   "file_extension": ".py",
   "mimetype": "text/x-python",
   "name": "python",
   "nbconvert_exporter": "python",
   "pygments_lexer": "ipython3",
   "version": "3.9.19"
  }
 },
 "nbformat": 4,
 "nbformat_minor": 2
}
